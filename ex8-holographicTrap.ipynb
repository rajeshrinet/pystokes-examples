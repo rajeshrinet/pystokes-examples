{
 "cells": [
  {
   "cell_type": "markdown",
   "metadata": {},
   "source": [
    "## Synchronization of active colloids in a 2D lattice of harmonic traps\n",
    "\n",
    "Here, we study the dynamics of spherical active colloids of radius $b$ in a two-dimensional lattice of traps. We consider self-propelling, polar, achiral active colloids, with non-zero values of $\\mathbf{V}_{i}^{\\mathcal{A}}, \\mathbf{V}_{i}^{(2s)}$ and $\\mathbf{V}_{i}^{(3t)}$.  With this choice, an isolated colloid translates with velocity $\\mathbf{V}_{i}^{\\mathcal{A}}=v_{s}\\boldsymbol{p}_{i}$ while producing dipolar and quadrupolar flows of strengths proportional to $\\mathbf{V}_{i}^{(2s)}$ and $\\mathbf{V}_{i}^{(3t)}$ respectively. \n",
    "\n",
    "The system we study can be realized experimentally in holographic tweezers. The centers of the $N$ traps are at $\\boldsymbol{R}_{i}^{0}$, arranged linearly or in a $\\sqrt{N}\\times\\sqrt{N}$ square lattice. Each trap contains a single active colloid which feels a body force from that trap alone. The moment of force about the trap center is zero. Therefore, in a trap of stiffness $k$ centered at $\\boldsymbol{R}_{i}^{0}$, the force and torque on the ith colloid is\n",
    "\n",
    "$$\n",
    "\\mathbf{F}_{i}^{P}=-k(\\boldsymbol{R}_{i}-\\boldsymbol{R}_{i}^{0}),\\qquad\\mathbf{T}_{i}^{P}=0.\n",
    "$$\n",
    "\n",
    "We start by ignoring hydrodynamic interactions to obtain the balance of forces and torques \n",
    "\n",
    "$$\n",
    "-6\\pi\\eta b(\\mathbf{V}_{i}-v_{s}\\boldsymbol{p}_{i})-k(\\boldsymbol{R}_{i}-\\boldsymbol{R}^{0})\t=0,\t\\qquad-8\\pi\\eta b^{3}\\,\\mathbf{\\Omega}_{i}=0.\n",
    "$$\n",
    "\n",
    "This gives the confinement radius $R^{*}=6\\pi\\eta bv_{s}/k=\\mathcal{A}_{T}b$, when the propulsive and trap forces are balanced. This is the stable state of the system in absence of hydrodynamic interactions. We now study the effects of hydrodynamic interaction using PyStokes. More details of the model etc can be found in section VII of the [paper](https://arxiv.org/pdf/1603.05735.pdf).  "
   ]
  },
  {
   "cell_type": "code",
   "execution_count": 1,
   "metadata": {},
   "outputs": [],
   "source": [
    "%matplotlib inline\n",
    "import numpy as np\n",
    "import scipy.io as sio\n",
    "import matplotlib.pyplot as plt\n",
    "import matplotlib.patches as patches\n",
    "import pystokes"
   ]
  },
  {
   "cell_type": "code",
   "execution_count": 2,
   "metadata": {},
   "outputs": [],
   "source": [
    "DTYPE   = np.float\n",
    "class trap:\n",
    "    def __init__(self, a, Np, vs, eta, dim, S0, D0, k, ljeps, ljrmin):\n",
    "        self.a      = a\n",
    "        self.Np     = Np\n",
    "        self.vs     = vs\n",
    "        self.eta    = eta\n",
    "        self.dim    = dim\n",
    "        self.S0     = S0\n",
    "        self.D0     = D0\n",
    "        self.mu     = 1.0/(6*np.pi*self.eta*self.a)\n",
    "        self.k      = k\n",
    "        self.ljrmin = ljrmin\n",
    "        self.ljeps  = ljeps\n",
    "        self.dX = np.zeros( 6*self.Np, dtype=DTYPE)\n",
    "   \n",
    "        self.uRbm = pystokes.unbounded.Rbm(self.a, self.Np, self.eta)\n",
    "\n",
    "\n",
    "    def initialise(self, initialConfig, trapCentre):\n",
    "        self.rp0 = initialConfig\n",
    "        self.trapCentre = trapCentre\n",
    "        return\n",
    "\n",
    "    def rhs(self, rp):\n",
    "        Np = self.Np \n",
    "        xx=2*Np; vs = self.vs\n",
    "            \n",
    "        r = rp[0:3*Np]\n",
    "        p = rp[3*Np:6*Np] \n",
    "        F = - self.k*(r-trapCentre)\n",
    "            \n",
    "        v = r*0; o=r*0;\n",
    "        self.uRbm.mobilityTT(v, r, F)\n",
    "        self.uRbm.mobilityRT(o, r, F)\n",
    "    \n",
    "        self.dX[0:3*Np] = vs*p + v \n",
    "        self.dX[3*Np:4*Np] = o[Np:2*Np  ]*p[2*Np:3*Np] - o[2*Np:3*Np]*p[Np:2*Np]\n",
    "        self.dX[4*Np:5*Np] = o[2*Np:3*Np]*p[0:Np     ] - o[0:Np     ]*p[2*Np:3*Np]\n",
    "        self.dX[5*Np:6*Np] = o[0:Np     ]*p[Np:2*Np  ] - o[Np:2*Np  ]*p[0:Np   ]\n",
    "        return self.dX\n",
    "    \n",
    "    def simulate(self, dt, N):\n",
    "        '''run simulation and save data'''\n",
    "        X = np.zeros( (N+1, 6*self.Np), dtype=DTYPE)\n",
    "        X[0, :] = self.rp0\n",
    "\n",
    "        for i in range(N):\n",
    "            X[i+1, :] =  X[i, :] + self.rhs(X[i, :])*dt\n",
    "        \n",
    "        sio.savemat('Np=%s_vs=%4.4f_K=%4.4f.mat'%(self.Np, self.vs, self.k), {'trapCentre':self.trapCentre, 'X':X, 't':dt, 'Np':self.Np,'k':self.k, 'vs':self.vs, 'S0':self.S0,})\n",
    "        return"
   ]
  },
  {
   "cell_type": "code",
   "execution_count": 3,
   "metadata": {},
   "outputs": [],
   "source": [
    "## parameters and initial conditions\n",
    "Np = 9          # number of particles\n",
    "vs = 1         # self-propulsion speed\n",
    "A  = 2          # number vs/k\n",
    "k  = vs/A       # stiffness of the trap\n",
    "a0 = 40         # separation of trap centers\n",
    "\n",
    "dim = 3         # dimensionality of the problem \n",
    "eta = 1.0/6     # viscosity of the fluid simulated\n",
    "b   = 1          # radius of the particle     \n",
    "\n",
    "S0, D0        = 0.01, 0.01     # strength of the stresslet and potDiple\n",
    "ljrmin, ljeps = 3, .01         # lennard-jones parameters\n",
    "dt, Npts      = 10, 200        # final time and number of points \n",
    "\n",
    "# instantiate the class trap from trap.pyx for simulation                    \n",
    "rm = trap(b, Np, vs, eta, dim, S0, D0, k, ljeps, ljrmin)    \n",
    "\n",
    "# set initial condition\n",
    "def initialConfig(rp0, trapCentre, theta, b, a0, vs, k, Np):                                              \n",
    "    '''method for preparing an initial system'''                                                                           \n",
    "    rr = (6*np.pi*eta*vs*b)/k  # confinement radius\n",
    "    t1 = np.pi/180       \n",
    "            \n",
    "    if Np==1:                                                                                             \n",
    "        rp0[0], rp0[1], rp0[2] = 0, 0, 8    # Position                                          \n",
    "        rp0[3], rp0[4], rp0[5] = 0, 0, -1   # Orientation                                                 \n",
    "                \n",
    "    elif Np==3: \n",
    "        trapCentre[0], trapCentre[3]  =  0, 0                                                                                \n",
    "        trapCentre[1], trapCentre[4] =  a0, a0\n",
    "        trapCentre[2], trapCentre[5] = -a0, a0                                                          \n",
    "        theta[0:3] = 90*np.pi/180                                                                                \n",
    "        for i in range(Np):\n",
    "            rp0[i     ] = trapCentre[i   ] + rr*np.cos(theta[i])\n",
    "            rp0[i+Np  ] = trapCentre[i+Np] + rr*np.sin(theta[i])\n",
    "            rp0[i+3*Np] = np.cos(theta[i])\n",
    "            rp0[i+4*Np] = np.sin(theta[i])\n",
    "    else:\n",
    "        Np1d = np.int(np.round( (Np)**(1.0/2)))\n",
    "        nnd = Np1d/2 - 0.5; h0=0\n",
    "        Np= np.int(Np1d*Np1d)\n",
    "        for i in range(Np1d):\n",
    "            for j in range(Np1d):\n",
    "                    ii                  = i*Np1d + j\n",
    "                    trapCentre[ii]      = a0*(-nnd + i)\n",
    "                    trapCentre[ii+Np]   = a0*(-nnd + j)\n",
    "                    trapCentre[ii+2*Np] = h0\n",
    "        theta = np.ones(Np)*np.pi/2\n",
    "        #theta = np.random.random(Np)*np.pi/2\n",
    "        for i in range(Np):\n",
    "            rp0[i     ] = trapCentre[i   ] + rr*np.cos(theta[i])\n",
    "            rp0[i+Np  ] = trapCentre[i+Np] + rr*np.sin(theta[i])\n",
    "            rp0[i+3*Np] = np.cos(theta[i])\n",
    "            rp0[i+4*Np] = np.sin(theta[i])\n",
    "            \n",
    "rp0        = np.zeros(6*Np)   # memory allocation for positions and orientation of colloids\n",
    "trapCentre = np.zeros(3*Np)   # memory allocation for trap centers\n",
    "theta      = np.zeros(Np)     # angle of the colloids about the trap centers\n",
    "\n",
    "initialConfig(rp0, trapCentre, theta, b, a0, vs, k, Np)\n",
    "rm.initialise(rp0, trapCentre)"
   ]
  },
  {
   "cell_type": "code",
   "execution_count": 4,
   "metadata": {},
   "outputs": [],
   "source": [
    "# simulate the system and save data\n",
    "rm.simulate(dt, Npts)"
   ]
  },
  {
   "cell_type": "markdown",
   "metadata": {},
   "source": [
    "### Load the data and plot snapshots"
   ]
  },
  {
   "cell_type": "code",
   "execution_count": 5,
   "metadata": {},
   "outputs": [],
   "source": [
    "data  = sio.loadmat('Np=9_vs=1.0000_K=0.5000.mat')\n",
    "X     = data['X']\n",
    "tm    = data['t']\n",
    "k     = data['k']\n",
    "vs    = data['vs']\n",
    "Np    = data['Np']\n",
    "tC    = data['trapCentre']"
   ]
  },
  {
   "cell_type": "code",
   "execution_count": 6,
   "metadata": {},
   "outputs": [
    {
     "data": {
      "image/png": "[encoded data removed]",
      "text/plain": [
       "<Figure size 1728x576 with 4 Axes>"
      ]
     },
     "metadata": {
      "needs_background": "light"
     },
     "output_type": "display_data"
    }
   ],
   "source": [
    "rr = (6*np.pi*eta*vs*b)/k  # confinement radius\n",
    "fig = plt.figure(figsize=(24, 8)); \n",
    "\n",
    "def plotConfig(n, n_):\n",
    "    ax = fig.add_subplot(1, 5, n_, aspect='equal', )\n",
    "    for i in range(int(Np)):\n",
    "        ax.add_patch(patches.Circle((tC[0, i], tC[0, i+Np]), rr, color='#348abd', alpha=0.32))\n",
    "        x, y   = X[n,i], X[n,Np+i]\n",
    "        px, py = X[n,3*Np+i], X[n,4*Np+i]\n",
    "        plt.quiver(x,y,px,py)\n",
    "    plt.title('Time=%d'%n, fontsize=20); plt.axis('off')\n",
    "\n",
    "plotConfig(0, 1)\n",
    "plotConfig(10, 2)\n",
    "plotConfig(100, 3)\n",
    "plotConfig(200, 4)"
   ]
  }
 ],
 "metadata": {
  "kernelspec": {
   "display_name": "Python 3",
   "language": "python",
   "name": "python3"
  },
  "language_info": {
   "codemirror_mode": {
    "name": "ipython",
    "version": 3
   },
   "file_extension": ".py",
   "mimetype": "text/x-python",
   "name": "python",
   "nbconvert_exporter": "python",
   "pygments_lexer": "ipython3",
   "version": "3.7.3"
  }
 },
 "nbformat": 4,
 "nbformat_minor": 1
}
